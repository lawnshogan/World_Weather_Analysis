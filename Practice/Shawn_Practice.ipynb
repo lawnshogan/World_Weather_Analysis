{
 "cells": [
  {
   "cell_type": "code",
   "execution_count": 43,
   "id": "dfb83073",
   "metadata": {},
   "outputs": [],
   "source": [
    "import random\n",
    "import numpy as np\n",
    "import sys"
   ]
  },
  {
   "cell_type": "code",
   "execution_count": 44,
   "id": "970dc3c8",
   "metadata": {},
   "outputs": [
    {
     "data": {
      "text/plain": [
       "87"
      ]
     },
     "execution_count": 44,
     "metadata": {},
     "output_type": "execute_result"
    }
   ],
   "source": [
    "# 6.1.4 Generate random latitudes and longitudes\n",
    "# Create random integer between -90 and 90\n",
    "random.randint(-90,90)"
   ]
  },
  {
   "cell_type": "code",
   "execution_count": 45,
   "id": "46987724",
   "metadata": {},
   "outputs": [
    {
     "data": {
      "text/plain": [
       "0.1346447580430018"
      ]
     },
     "execution_count": 45,
     "metadata": {},
     "output_type": "execute_result"
    }
   ],
   "source": [
    "# Get a single floating-point decimal number betweem 0 and 1.0\n",
    "random.random()"
   ]
  },
  {
   "cell_type": "code",
   "execution_count": 46,
   "id": "5804f2c1",
   "metadata": {},
   "outputs": [
    {
     "data": {
      "text/plain": [
       "[23.059595831261007,\n",
       " 58.379172909009526,\n",
       " -48.012068546429205,\n",
       " 8.52162606820306,\n",
       " 55.73386810267065,\n",
       " -52.82109085055604,\n",
       " -25.5890409626871,\n",
       " -89.73939400733083,\n",
       " -29.368186669973205,\n",
       " 57.815530799343954]"
      ]
     },
     "execution_count": 46,
     "metadata": {},
     "output_type": "execute_result"
    }
   ],
   "source": [
    "# Generate latitudes between -90 and 89 - too long of a script\n",
    "x = 1\n",
    "latitudes = []\n",
    "while x < 11:\n",
    "    random_lat = random.randint(-90, 89) + random.random()\n",
    "    latitudes.append(random_lat)\n",
    "    x += 1\n",
    "latitudes"
   ]
  },
  {
   "cell_type": "code",
   "execution_count": 47,
   "id": "dfa8afcd",
   "metadata": {},
   "outputs": [
    {
     "data": {
      "text/plain": [
       "-19"
      ]
     },
     "execution_count": 47,
     "metadata": {},
     "output_type": "execute_result"
    }
   ],
   "source": [
    "# Use randrange() - Add lower and upper limit in parentheses, 'step' parameter are incriments\n",
    "random.randrange(-90, 90, step=1)"
   ]
  },
  {
   "cell_type": "code",
   "execution_count": 48,
   "id": "932eaf5b",
   "metadata": {},
   "outputs": [
    {
     "data": {
      "text/plain": [
       "-77.70597167333553"
      ]
     },
     "execution_count": 48,
     "metadata": {},
     "output_type": "execute_result"
    }
   ],
   "source": [
    "# Use uniform() - Generate a floating-point decimal number between two numbers\n",
    "random.uniform(-90, 90)"
   ]
  },
  {
   "cell_type": "code",
   "execution_count": null,
   "id": "e28247f5",
   "metadata": {},
   "outputs": [],
   "source": []
  }
 ],
 "metadata": {
  "kernelspec": {
   "display_name": "Python 3 (ipykernel)",
   "language": "python",
   "name": "python3"
  },
  "language_info": {
   "codemirror_mode": {
    "name": "ipython",
    "version": 3
   },
   "file_extension": ".py",
   "mimetype": "text/x-python",
   "name": "python",
   "nbconvert_exporter": "python",
   "pygments_lexer": "ipython3",
   "version": "3.7.6"
  }
 },
 "nbformat": 4,
 "nbformat_minor": 5
}
